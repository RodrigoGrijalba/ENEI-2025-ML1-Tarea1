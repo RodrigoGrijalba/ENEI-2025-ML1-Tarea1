{
 "cells": [
  {
   "cell_type": "code",
   "execution_count": null,
   "id": "d11ea7c7",
   "metadata": {},
   "outputs": [],
   "source": [
    "#pip install scikit-learn pandas seaborn"
   ]
  },
  {
   "cell_type": "code",
   "execution_count": null,
   "id": "9e78fcf0",
   "metadata": {},
   "outputs": [],
   "source": [
    "import sklearn as sk\n",
    "from sklearn.datasets import fetch_california_housing\n",
    "from sklearn.model_selection import train_test_split\n",
    "import matplotlib.pyplot as plt\n",
    "import pandas as pd\n",
    "import numpy as np\n",
    "import seaborn as sns"
   ]
  },
  {
   "cell_type": "markdown",
   "id": "c0a6f9e9",
   "metadata": {},
   "source": [
    "# Part A. Linear Regression From Scratch"
   ]
  },
  {
   "cell_type": "markdown",
   "id": "58c9826c",
   "metadata": {},
   "source": [
    "Creating dataframes for the targets and features"
   ]
  },
  {
   "cell_type": "code",
   "execution_count": null,
   "id": "11efdba8",
   "metadata": {},
   "outputs": [],
   "source": [
    "X = pd.DataFrame(fetch_california_housing()['data'], columns=fetch_california_housing()['feature_names'])\n",
    "y = pd.DataFrame(fetch_california_housing()['target'], columns=fetch_california_housing()['target_names'])"
   ]
  },
  {
   "cell_type": "markdown",
   "id": "2c0988b1",
   "metadata": {},
   "source": [
    "Reviewing the data"
   ]
  },
  {
   "cell_type": "code",
   "execution_count": null,
   "id": "4f933eea",
   "metadata": {},
   "outputs": [],
   "source": [
    "display(X.info())\n",
    "display(y.info())\n",
    "print('There are no missings')"
   ]
  },
  {
   "cell_type": "code",
   "execution_count": null,
   "id": "76ff555e",
   "metadata": {},
   "outputs": [],
   "source": [
    "display(X.describe())\n",
    "display(y.describe())"
   ]
  },
  {
   "cell_type": "code",
   "execution_count": null,
   "id": "cbb47d1d",
   "metadata": {},
   "outputs": [],
   "source": [
    "plt.hist(y['MedHouseVal'], bins=20, edgecolor='black', alpha=0.7) \n",
    "plt.title('MedHouseVal')\n",
    "plt.show\n",
    "print('There are not ouliers')"
   ]
  },
  {
   "cell_type": "code",
   "execution_count": null,
   "id": "12881b0d",
   "metadata": {},
   "outputs": [],
   "source": [
    "for target in ['MedInc', 'HouseAge', 'AveRooms', 'AveBedrms', 'Population', 'AveOccup']:\n",
    "    plt.hist(X[target], bins=15, edgecolor='black', alpha=0.7)\n",
    "    plt.title(target)\n",
    "    plt.show()"
   ]
  },
  {
   "cell_type": "code",
   "execution_count": null,
   "id": "da7e4bcc",
   "metadata": {},
   "outputs": [],
   "source": [
    "for target in ['AveRooms', 'AveBedrms', 'Population', 'AveOccup']:\n",
    "    plt.boxplot(X[target])\n",
    "    plt.title(target)\n",
    "    plt.show()"
   ]
  },
  {
   "cell_type": "code",
   "execution_count": null,
   "id": "9d58367f",
   "metadata": {},
   "outputs": [],
   "source": [
    "for target in ['AveRooms', 'AveBedrms', 'Population', 'AveOccup']:\n",
    "    fig, axs = plt.subplots(1, 3, figsize=(15, 4)) \n",
    "    axs[0].hist(X[target], bins=15, edgecolor='black', alpha=0.7)\n",
    "    axs[0].set_title(target)\n",
    "    axs[1].hist(np.log(X[target]), bins=15, edgecolor='black', alpha=0.7)\n",
    "    axs[1].set_title(target)\n",
    "    axs[2].boxplot(np.log(X[target]))\n",
    "    axs[2].set_title(target)\n",
    "    plt.show()"
   ]
  },
  {
   "cell_type": "code",
   "execution_count": null,
   "id": "cb627042",
   "metadata": {},
   "outputs": [],
   "source": [
    "df = X.copy()\n",
    "\n",
    "o_rows = len(df)\n",
    "\n",
    "print(o_rows)\n",
    "\n",
    "for feature in ['AveRooms', 'AveBedrms', 'Population', 'AveOccup']:\n",
    "    q1 = np.percentile(np.log(df[feature]), 25)\n",
    "    q3 = np.percentile(np.log(df[feature]), 75)\n",
    "    iqr = q3 - q1\n",
    "\n",
    "    lower_bound = q1 - 1.5 * iqr\n",
    "    upper_bound = q3 + 1.5 * iqr\n",
    "\n",
    "    df = df[(np.log(df[feature])<upper_bound) & (np.log(df[feature])>lower_bound)]\n",
    "\n",
    "    print(len(df))\n",
    "\n",
    "#    fig, axs = plt.subplots(1, 3, figsize=(15, 4)) \n",
    "#    axs[0].hist(X[target],\n",
    "\n",
    "m_rows = len(df)\n",
    "\n",
    "print(m_rows)\n",
    "\n",
    "print(f'The dataset ends with {np.round(m_rows/o_rows,2)}% of the original rows')\n",
    "\n",
    "X_mod = df\n",
    "y_mod = X_mod.join(y, how='inner', lsuffix='_del')[['MedHouseVal']]"
   ]
  },
  {
   "cell_type": "markdown",
   "id": "d45c3fb0",
   "metadata": {},
   "source": [
    "Vizualiting correlations"
   ]
  },
  {
   "cell_type": "code",
   "execution_count": null,
   "id": "f8b08907",
   "metadata": {},
   "outputs": [],
   "source": [
    "df_combined = pd.concat([X_mod, y_mod], axis=1)\n",
    "\n",
    "\n",
    "corr_matrix = df_combined.corr()\n",
    "target_col = y_mod.columns[0]\n",
    "corr_with_target = corr_matrix[[target_col]].drop(index=target_col)\n",
    "corr_features = X_mod.corr()\n",
    "\n",
    "\n",
    "plt.figure(figsize=(8, len(corr_with_target) * 0.5))\n",
    "sns.heatmap(corr_with_target, annot=True, cmap='coolwarm', center=0)\n",
    "plt.title(f'Correlation features with {target_col}')\n",
    "plt.tight_layout()\n",
    "plt.show()\n",
    "\n",
    "plt.figure(figsize=(6, 6))\n",
    "sns.heatmap(corr_features, annot=True, cmap='mako', center=0)\n",
    "plt.title(f'Correlation features')\n",
    "plt.tight_layout()\n",
    "plt.show()\n",
    "\n",
    "print('Longitude, Population and AveBedrms are discarted for the poor correlation with the target. Surprisingly Latitude have a minimun correlation whit MedHouseVal')\n",
    "\n",
    "X_mod_2 = X_mod[['MedInc', 'HouseAge', 'AveRooms', 'AveOccup', 'Latitude']]"
   ]
  },
  {
   "cell_type": "markdown",
   "id": "9bcf3b2c",
   "metadata": {},
   "source": [
    "Standardizing features"
   ]
  },
  {
   "cell_type": "code",
   "execution_count": null,
   "id": "3049861f",
   "metadata": {},
   "outputs": [],
   "source": [
    "X_std = X_mod_2.copy()\n",
    "for feature in X_std.columns:\n",
    "    X_std[feature] = (X_std[feature] - np.mean(X_std[feature])) / np.std(X_std[feature])\n"
   ]
  },
  {
   "cell_type": "markdown",
   "id": "700f2aef",
   "metadata": {},
   "source": [
    "Spliting the dataset in train and test data"
   ]
  },
  {
   "cell_type": "code",
   "execution_count": null,
   "id": "a11a6184",
   "metadata": {},
   "outputs": [],
   "source": [
    "X_train, X_test, y_train, y_test = train_test_split(X_std, y_mod, test_size=0.2, random_state=1234)\n",
    "print('We are ready!')"
   ]
  },
  {
   "cell_type": "markdown",
   "id": "890fbd09",
   "metadata": {},
   "source": [
    "Closed-form OLS"
   ]
  },
  {
   "cell_type": "code",
   "execution_count": null,
   "id": "b574b560",
   "metadata": {},
   "outputs": [],
   "source": [
    "X_train_wi = np.hstack([np.ones((X_train.shape[0], 1)), X_train])\n",
    "beta_hat = np.linalg.inv(X_train_wi.T @ X_train_wi) @ X_train_wi.T @ y_train"
   ]
  },
  {
   "cell_type": "code",
   "execution_count": null,
   "id": "adac3316",
   "metadata": {},
   "outputs": [],
   "source": [
    "for i, f in enumerate(['Intercept'] + [i for i in X_train.columns]):\n",
    "    print(f'Coefficient of {f}: {beta_hat.iloc[i,:][0]}')"
   ]
  },
  {
   "cell_type": "code",
   "execution_count": null,
   "id": "e73c3095",
   "metadata": {},
   "outputs": [],
   "source": [
    "y_train_pred = X_train_wi @ beta_hat"
   ]
  },
  {
   "cell_type": "code",
   "execution_count": null,
   "id": "3b3f8561",
   "metadata": {},
   "outputs": [],
   "source": [
    "X_test_wi = np.hstack([np.ones((X_test.shape[0], 1)), X_test])"
   ]
  },
  {
   "cell_type": "code",
   "execution_count": null,
   "id": "248b5347",
   "metadata": {},
   "outputs": [],
   "source": [
    "y_test_pred = X_test_wi @ beta_hat"
   ]
  },
  {
   "cell_type": "code",
   "execution_count": null,
   "id": "4e2625e7",
   "metadata": {},
   "outputs": [],
   "source": [
    "e = y_test_pred - y_test.reset_index(drop=True)"
   ]
  },
  {
   "cell_type": "code",
   "execution_count": null,
   "id": "b0c287dc",
   "metadata": {},
   "outputs": [],
   "source": [
    "x = range(len(y_test_pred))\n",
    "plt.figure(figsize=(20, 5))\n",
    "plt.plot(e, label='Valor real', color='blue')\n",
    "#plt.plot(x, y_test, label='Valor real', color='red')\n",
    "plt.ylabel('Error')\n",
    "plt.title('Errors in test')\n",
    "plt.legend()\n",
    "plt.grid(True)\n",
    "plt.tight_layout()\n",
    "plt.show()\n",
    "\n",
    "plt.figure(figsize=(20,5))\n",
    "plt.scatter(y_test, y_test_pred, alpha=0.7, edgecolor='k')\n",
    "plt.plot([y_test.min(), y_test.max()],\n",
    "         [y_test.min(), y_test.max()],\n",
    "         'r--', lw=2)\n",
    "\n",
    "plt.xlabel(\"Real\")\n",
    "plt.ylabel(\"Predict\")\n",
    "plt.title(\"Real values vs. predicted values in test\")\n",
    "plt.grid(True)\n",
    "plt.show()"
   ]
  },
  {
   "cell_type": "markdown",
   "id": "fbfb6ae9",
   "metadata": {},
   "source": [
    "Now with gradient descent"
   ]
  },
  {
   "cell_type": "code",
   "execution_count": null,
   "id": "28c4f4c7",
   "metadata": {},
   "outputs": [],
   "source": [
    "def f(X, beta):\n",
    "    return X @ beta\n",
    "def mse_gradient(beta, X, y):\n",
    "    return np.mean((f(X, beta) - y) * X.T, axis=1)\n",
    "def mean_squared_error(beta, X, y):\n",
    "    return np.mean((y-f(X, beta))**2)"
   ]
  },
  {
   "cell_type": "code",
   "execution_count": null,
   "id": "66da736d",
   "metadata": {},
   "outputs": [],
   "source": [
    "threshold = 1e-3\n",
    "step_size = 4e-1\n",
    "beta, beta_prev = np.array([5,4,3,2,1]), np.ones(5,)\n",
    "opt_pts = [beta]\n",
    "opt_grads = []\n",
    "iter = 0\n",
    "\n",
    "while np.linalg.norm(beta - beta_prev) > threshold:\n",
    "    if iter % 100 == 0:\n",
    "        print('Iteration %d. MSE: %.6f' % (iter, mean_squared_error(beta, X_train, y_train)))\n",
    "    beta_prev = beta\n",
    "    gradient = mse_gradient(beta, X_train, y_train)\n",
    "    beta = beta_prev - step_size * gradient\n",
    "    opt_pts += [beta]\n",
    "    opt_grads += [gradient]\n",
    "    iter += 1"
   ]
  },
  {
   "cell_type": "code",
   "execution_count": null,
   "id": "946e607a",
   "metadata": {},
   "outputs": [],
   "source": [
    "np.ones(2,)"
   ]
  },
  {
   "cell_type": "code",
   "execution_count": null,
   "id": "8cfd57bf",
   "metadata": {},
   "outputs": [],
   "source": []
  }
 ],
 "metadata": {
  "kernelspec": {
   "display_name": "hola",
   "language": "python",
   "name": "python3"
  },
  "language_info": {
   "codemirror_mode": {
    "name": "ipython",
    "version": 3
   },
   "file_extension": ".py",
   "mimetype": "text/x-python",
   "name": "python",
   "nbconvert_exporter": "python",
   "pygments_lexer": "ipython3",
   "version": "3.10.4"
  }
 },
 "nbformat": 4,
 "nbformat_minor": 5
}
